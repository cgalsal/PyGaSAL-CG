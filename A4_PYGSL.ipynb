{
 "cells": [
  {
   "cell_type": "code",
   "execution_count": 110,
   "id": "338ea82b",
   "metadata": {},
   "outputs": [
    {
     "name": "stdout",
     "output_type": "stream",
     "text": [
      "Feature name || Total missing values\n",
      "Name               2\n",
      "Genre              2\n",
      "NA_Sales           0\n",
      "EU_Sales           0\n",
      "JP_Sales           0\n",
      "Other_Sales        0\n",
      "Global_Sales       0\n",
      "Critic_Score    8582\n",
      "Critic_Count    8582\n",
      "User_Score      9129\n",
      "User_Count      9129\n",
      "Rating          6769\n",
      "dtype: int64\n"
     ]
    }
   ],
   "source": [
    "# Importing the required libraries\n",
    "import pandas as pd\n",
    "import numpy as np\n",
    "\n",
    "# Importing the dataset\n",
    "df = pd.read_csv('Video_Games_Sales_as_at_22_Dec_2016.csv')\n",
    "\n",
    "# Dropping certain less important features\n",
    "df.drop(columns = ['Year_of_Release', 'Publisher', 'Platform'], inplace = True)\n",
    "\n",
    "# To view the columns with missing values\n",
    "print('Feature name || Total missing values')\n",
    "print(df.isna().sum())"
   ]
  },
  {
   "cell_type": "code",
   "execution_count": 113,
   "id": "631a6a09",
   "metadata": {},
   "outputs": [
    {
     "data": {
      "text/html": [
       "<div>\n",
       "<style scoped>\n",
       "    .dataframe tbody tr th:only-of-type {\n",
       "        vertical-align: middle;\n",
       "    }\n",
       "\n",
       "    .dataframe tbody tr th {\n",
       "        vertical-align: top;\n",
       "    }\n",
       "\n",
       "    .dataframe thead th {\n",
       "        text-align: right;\n",
       "    }\n",
       "</style>\n",
       "<table border=\"1\" class=\"dataframe\">\n",
       "  <thead>\n",
       "    <tr style=\"text-align: right;\">\n",
       "      <th></th>\n",
       "      <th>Name</th>\n",
       "      <th>Genre</th>\n",
       "      <th>NA_Sales</th>\n",
       "      <th>EU_Sales</th>\n",
       "      <th>JP_Sales</th>\n",
       "      <th>Other_Sales</th>\n",
       "      <th>Global_Sales</th>\n",
       "      <th>Critic_Score</th>\n",
       "      <th>Critic_Count</th>\n",
       "      <th>User_Score</th>\n",
       "      <th>User_Count</th>\n",
       "      <th>Rating</th>\n",
       "    </tr>\n",
       "  </thead>\n",
       "  <tbody>\n",
       "    <tr>\n",
       "      <th>0</th>\n",
       "      <td>Wii Sports</td>\n",
       "      <td>Sports</td>\n",
       "      <td>41.36</td>\n",
       "      <td>28.96</td>\n",
       "      <td>3.77</td>\n",
       "      <td>8.45</td>\n",
       "      <td>82.53</td>\n",
       "      <td>76.0</td>\n",
       "      <td>51.0</td>\n",
       "      <td>8.0</td>\n",
       "      <td>322.0</td>\n",
       "      <td>E</td>\n",
       "    </tr>\n",
       "    <tr>\n",
       "      <th>1</th>\n",
       "      <td>Super Mario Bros.</td>\n",
       "      <td>Platform</td>\n",
       "      <td>29.08</td>\n",
       "      <td>3.58</td>\n",
       "      <td>6.81</td>\n",
       "      <td>0.77</td>\n",
       "      <td>40.24</td>\n",
       "      <td>NaN</td>\n",
       "      <td>NaN</td>\n",
       "      <td>NaN</td>\n",
       "      <td>NaN</td>\n",
       "      <td>NaN</td>\n",
       "    </tr>\n",
       "    <tr>\n",
       "      <th>2</th>\n",
       "      <td>Mario Kart Wii</td>\n",
       "      <td>Racing</td>\n",
       "      <td>15.68</td>\n",
       "      <td>12.76</td>\n",
       "      <td>3.79</td>\n",
       "      <td>3.29</td>\n",
       "      <td>35.52</td>\n",
       "      <td>82.0</td>\n",
       "      <td>73.0</td>\n",
       "      <td>8.3</td>\n",
       "      <td>709.0</td>\n",
       "      <td>E</td>\n",
       "    </tr>\n",
       "    <tr>\n",
       "      <th>3</th>\n",
       "      <td>Wii Sports Resort</td>\n",
       "      <td>Sports</td>\n",
       "      <td>15.61</td>\n",
       "      <td>10.93</td>\n",
       "      <td>3.28</td>\n",
       "      <td>2.95</td>\n",
       "      <td>32.77</td>\n",
       "      <td>80.0</td>\n",
       "      <td>73.0</td>\n",
       "      <td>8.0</td>\n",
       "      <td>192.0</td>\n",
       "      <td>E</td>\n",
       "    </tr>\n",
       "    <tr>\n",
       "      <th>4</th>\n",
       "      <td>Pokemon Red/Pokemon Blue</td>\n",
       "      <td>Role-Playing</td>\n",
       "      <td>11.27</td>\n",
       "      <td>8.89</td>\n",
       "      <td>10.22</td>\n",
       "      <td>1.00</td>\n",
       "      <td>31.37</td>\n",
       "      <td>NaN</td>\n",
       "      <td>NaN</td>\n",
       "      <td>NaN</td>\n",
       "      <td>NaN</td>\n",
       "      <td>NaN</td>\n",
       "    </tr>\n",
       "  </tbody>\n",
       "</table>\n",
       "</div>"
      ],
      "text/plain": [
       "                       Name         Genre  NA_Sales  EU_Sales  JP_Sales  \\\n",
       "0                Wii Sports        Sports     41.36     28.96      3.77   \n",
       "1         Super Mario Bros.      Platform     29.08      3.58      6.81   \n",
       "2            Mario Kart Wii        Racing     15.68     12.76      3.79   \n",
       "3         Wii Sports Resort        Sports     15.61     10.93      3.28   \n",
       "4  Pokemon Red/Pokemon Blue  Role-Playing     11.27      8.89     10.22   \n",
       "\n",
       "   Other_Sales  Global_Sales  Critic_Score  Critic_Count  User_Score  \\\n",
       "0         8.45         82.53          76.0          51.0         8.0   \n",
       "1         0.77         40.24           NaN           NaN         NaN   \n",
       "2         3.29         35.52          82.0          73.0         8.3   \n",
       "3         2.95         32.77          80.0          73.0         8.0   \n",
       "4         1.00         31.37           NaN           NaN         NaN   \n",
       "\n",
       "   User_Count Rating  \n",
       "0       322.0      E  \n",
       "1         NaN    NaN  \n",
       "2       709.0      E  \n",
       "3       192.0      E  \n",
       "4         NaN    NaN  "
      ]
     },
     "execution_count": 113,
     "metadata": {},
     "output_type": "execute_result"
    }
   ],
   "source": [
    "# drop two rows with missing Name values\n",
    "df.dropna(subset =['Name'], axis=0, inplace=True)\n",
    "df.head()"
   ]
  },
  {
   "cell_type": "markdown",
   "id": "632b129a",
   "metadata": {},
   "source": [
    "Replacing the missing data with substituted values. Here, we’ll use the SimpleImputer class from the scikit-learn library to impute the columns with missing values and to impute the columns with values of type string, we’ll use CategoricalImputer from feature_engine and replace the missing values with ‘NA’ i.e. Not Available."
   ]
  },
  {
   "cell_type": "code",
   "execution_count": 114,
   "id": "dc8c2c77",
   "metadata": {},
   "outputs": [],
   "source": [
    "from sklearn.impute import SimpleImputer\n",
    "imputer = SimpleImputer(strategy='mean')\n",
    "df.loc[:, [ 'Critic_Score', 'Critic_Count', 'User_Score', 'User_Count']] = imputer.fit_transform(df.loc[:, [ 'Critic_Score', 'Critic_Count', 'User_Score', 'User_Count']])\n",
    "\n",
    "from feature_engine.imputation import CategoricalImputer\n",
    "\n",
    "categorical_imputer = CategoricalImputer( imputation_method = 'frequent')\n",
    "df.loc[:, ['Genre','Rating' ]] = categorical_imputer.fit_transform(df.loc[:, ['Genre','Rating' ]])\n"
   ]
  },
  {
   "cell_type": "code",
   "execution_count": 115,
   "id": "db82e8b8",
   "metadata": {},
   "outputs": [
    {
     "name": "stdout",
     "output_type": "stream",
     "text": [
      "Feature name || Total missing values\n",
      "Name            0\n",
      "Genre           0\n",
      "NA_Sales        0\n",
      "EU_Sales        0\n",
      "JP_Sales        0\n",
      "Other_Sales     0\n",
      "Global_Sales    0\n",
      "Critic_Score    0\n",
      "Critic_Count    0\n",
      "User_Score      0\n",
      "User_Count      0\n",
      "Rating          0\n",
      "dtype: int64\n"
     ]
    }
   ],
   "source": [
    "# To view the columns with missing values\n",
    "print('Feature name || Total missing values')\n",
    "print(df.isna().sum())"
   ]
  },
  {
   "cell_type": "markdown",
   "id": "0e40ceb4",
   "metadata": {},
   "source": [
    "# Variables Correlation"
   ]
  },
  {
   "cell_type": "code",
   "execution_count": 116,
   "id": "9c93d50d",
   "metadata": {},
   "outputs": [
    {
     "data": {
      "text/plain": [
       "<AxesSubplot:>"
      ]
     },
     "execution_count": 116,
     "metadata": {},
     "output_type": "execute_result"
    },
    {
     "data": {
      "image/png": "[encoded data removed]",
      "text/plain": [
       "<Figure size 720x720 with 2 Axes>"
      ]
     },
     "metadata": {
      "needs_background": "light"
     },
     "output_type": "display_data"
    }
   ],
   "source": [
    "import seaborn as sns\n",
    "import matplotlib.pyplot as plt\n",
    "\n",
    "plt.figure(figsize=(10,10))\n",
    "sns.heatmap(df.corr().abs().round(2),annot=True,fmt= '.3f')\n"
   ]
  },
  {
   "cell_type": "markdown",
   "id": "32dd667a",
   "metadata": {},
   "source": [
    "Splitting the dataset into Train & Test sets"
   ]
  },
  {
   "cell_type": "code",
   "execution_count": 158,
   "id": "c10964db",
   "metadata": {},
   "outputs": [],
   "source": [
    "X = df.drop('Global_Sales', axis=1) # copy dataset without the target column Global_Sales\n",
    "y = df['Global_Sales'] # copy the target variable Global_Sales to y \n",
    "\n",
    "# Splitting the dataset into Train and Test sets\n",
    "from sklearn.model_selection import train_test_split\n",
    "X_train, X_test, y_train, y_test = train_test_split(X, y, test_size = 0.3, random_state = 100)\n",
    "\n",
    "# Saving name of the games in training and test set\n",
    "games_in_training_set = X_train.loc[:,'Name']\n",
    "games_in_test_set = X_test.loc[:,'Name']\n",
    "\n",
    "# Dropping the column that contains the name of the games\n",
    "X_train = X_train.drop('Name', axis=1)\n",
    "X_test = X_test.drop('Name', axis=1)"
   ]
  },
  {
   "cell_type": "markdown",
   "id": "c072e02d",
   "metadata": {},
   "source": [
    "Here, we initialize ‘X’ and ‘y’ where ‘X’ is the set of independent variables and ‘y’ the target variable i.e. the Global_Sales.  We save the name of the games in a separate array named  ‘games_in_training_set’ and ‘games_in_test_set’ as these names will not be of much help when predicting the global sales."
   ]
  },
  {
   "cell_type": "markdown",
   "id": "fafad575",
   "metadata": {},
   "source": [
    "OneHotEncoding\n",
    "We encode the categorical columns of ‘X’ using ColumnTransformer and OneHotEncoder from the scikit-learn library. This will assign one separate column to each category present in a categorical column of ‘X’."
   ]
  },
  {
   "cell_type": "code",
   "execution_count": 159,
   "id": "b704c3c3",
   "metadata": {},
   "outputs": [],
   "source": [
    "from sklearn.compose import ColumnTransformer\n",
    "from sklearn.preprocessing import OneHotEncoder\n",
    "\n",
    "ct = ColumnTransformer(transformers = [('encoder', OneHotEncoder(), ['Genre', 'Rating'])], remainder = 'passthrough') \n",
    "X_train = ct.fit_transform(X_train)\n",
    "X_test = ct.transform(X_test)"
   ]
  },
  {
   "cell_type": "markdown",
   "id": "a8be6cba",
   "metadata": {},
   "source": [
    "Building the models\n",
    "We’ll implement our model i.e. the regressor using XGBRegressor (where XGB stands for extreme gradient boosting). XGBoost is an ensemble machine learning algorithm based on decision trees similar to the RandomForest algorithm. However, unlike RandomForest that makes use of fully grown trees, XGBoost combines trees that are not too deep. Also, the number of trees combined in XGBoost is more in comparison to RandomForest. Ensemble algorithms effectively combine weak learners to produce a strong learner. XGBoost has additional features focused on performance and speed when compared to gradient boosting."
   ]
  },
  {
   "cell_type": "code",
   "execution_count": 160,
   "id": "3f0f099b",
   "metadata": {},
   "outputs": [
    {
     "data": {
      "text/plain": [
       "XGBRegressor(base_score=0.5, booster='gbtree', colsample_bylevel=1,\n",
       "             colsample_bynode=1, colsample_bytree=1, gamma=0, gpu_id=-1,\n",
       "             importance_type='gain', interaction_constraints='',\n",
       "             learning_rate=0.08, max_delta_step=0, max_depth=6,\n",
       "             min_child_weight=1, missing=nan, monotone_constraints='()',\n",
       "             n_estimators=200, n_jobs=8, num_parallel_tree=1, random_state=0,\n",
       "             reg_alpha=0, reg_lambda=1, scale_pos_weight=1, subsample=1,\n",
       "             tree_method='exact', validate_parameters=1, verbosity=None)"
      ]
     },
     "execution_count": 160,
     "metadata": {},
     "output_type": "execute_result"
    }
   ],
   "source": [
    "from xgboost import XGBRegressor\n",
    "model = XGBRegressor(n_estimators = 200, learning_rate= 0.08)\n",
    "model.fit(X_train, y_train)"
   ]
  },
  {
   "cell_type": "markdown",
   "id": "08c93ee3",
   "metadata": {},
   "source": [
    "Making predictions on the Test set\n",
    "Global Sales i.e. the target variable ‘y’ for the games in the test set is predicted using the model.predict() method."
   ]
  },
  {
   "cell_type": "code",
   "execution_count": 161,
   "id": "53388162",
   "metadata": {},
   "outputs": [],
   "source": [
    "# Predicting test set results\n",
    "y_pred = model.predict(X_test)\n",
    "\n",
    "# Visualising actual and predicted sales\n",
    "predictions = np.concatenate([games_in_test_set.values.reshape(-1, 1), y_pred.reshape(-1, 1), y_test.values.reshape(-1,1)], axis = 1)\n",
    "predictions = pd.DataFrame(predictions, columns = ['Name', 'Predicted_Global_Sales', 'Actual_Global_Sales'])"
   ]
  },
  {
   "cell_type": "code",
   "execution_count": 162,
   "id": "32e9bfd7",
   "metadata": {},
   "outputs": [
    {
     "data": {
      "text/plain": [
       "0.8930591120522187"
      ]
     },
     "execution_count": 162,
     "metadata": {},
     "output_type": "execute_result"
    }
   ],
   "source": [
    "model.score(X_test, y_test)"
   ]
  },
  {
   "cell_type": "code",
   "execution_count": 163,
   "id": "bdc94dbb",
   "metadata": {},
   "outputs": [
    {
     "data": {
      "text/html": [
       "<div>\n",
       "<style scoped>\n",
       "    .dataframe tbody tr th:only-of-type {\n",
       "        vertical-align: middle;\n",
       "    }\n",
       "\n",
       "    .dataframe tbody tr th {\n",
       "        vertical-align: top;\n",
       "    }\n",
       "\n",
       "    .dataframe thead th {\n",
       "        text-align: right;\n",
       "    }\n",
       "</style>\n",
       "<table border=\"1\" class=\"dataframe\">\n",
       "  <thead>\n",
       "    <tr style=\"text-align: right;\">\n",
       "      <th></th>\n",
       "      <th>Name</th>\n",
       "      <th>Predicted_Global_Sales</th>\n",
       "      <th>Actual_Global_Sales</th>\n",
       "    </tr>\n",
       "  </thead>\n",
       "  <tbody>\n",
       "    <tr>\n",
       "      <th>0</th>\n",
       "      <td>Mario Party 3</td>\n",
       "      <td>1.821311</td>\n",
       "      <td>1.91</td>\n",
       "    </tr>\n",
       "    <tr>\n",
       "      <th>1</th>\n",
       "      <td>Bullet Girls</td>\n",
       "      <td>0.058337</td>\n",
       "      <td>0.06</td>\n",
       "    </tr>\n",
       "    <tr>\n",
       "      <th>2</th>\n",
       "      <td>Injustice: Gods Among Us</td>\n",
       "      <td>0.142048</td>\n",
       "      <td>0.13</td>\n",
       "    </tr>\n",
       "    <tr>\n",
       "      <th>3</th>\n",
       "      <td>Rhythm Heaven</td>\n",
       "      <td>3.039105</td>\n",
       "      <td>3.11</td>\n",
       "    </tr>\n",
       "    <tr>\n",
       "      <th>4</th>\n",
       "      <td>Broken Sword II: The Smoking Mirror</td>\n",
       "      <td>0.05151</td>\n",
       "      <td>0.06</td>\n",
       "    </tr>\n",
       "    <tr>\n",
       "      <th>...</th>\n",
       "      <td>...</td>\n",
       "      <td>...</td>\n",
       "      <td>...</td>\n",
       "    </tr>\n",
       "    <tr>\n",
       "      <th>5011</th>\n",
       "      <td>Bakusou Kyoudai Let's &amp; Go!! Eternal Wings</td>\n",
       "      <td>0.048658</td>\n",
       "      <td>0.05</td>\n",
       "    </tr>\n",
       "    <tr>\n",
       "      <th>5012</th>\n",
       "      <td>Darkened Skye</td>\n",
       "      <td>0.015394</td>\n",
       "      <td>0.01</td>\n",
       "    </tr>\n",
       "    <tr>\n",
       "      <th>5013</th>\n",
       "      <td>Burnout Paradise: The Ultimate Box</td>\n",
       "      <td>0.062339</td>\n",
       "      <td>0.07</td>\n",
       "    </tr>\n",
       "    <tr>\n",
       "      <th>5014</th>\n",
       "      <td>Soul Edge</td>\n",
       "      <td>1.458211</td>\n",
       "      <td>1.59</td>\n",
       "    </tr>\n",
       "    <tr>\n",
       "      <th>5015</th>\n",
       "      <td>Whiteout</td>\n",
       "      <td>0.029069</td>\n",
       "      <td>0.03</td>\n",
       "    </tr>\n",
       "  </tbody>\n",
       "</table>\n",
       "<p>5016 rows × 3 columns</p>\n",
       "</div>"
      ],
      "text/plain": [
       "                                            Name Predicted_Global_Sales  \\\n",
       "0                                  Mario Party 3               1.821311   \n",
       "1                                   Bullet Girls               0.058337   \n",
       "2                       Injustice: Gods Among Us               0.142048   \n",
       "3                                  Rhythm Heaven               3.039105   \n",
       "4            Broken Sword II: The Smoking Mirror                0.05151   \n",
       "...                                          ...                    ...   \n",
       "5011  Bakusou Kyoudai Let's & Go!! Eternal Wings               0.048658   \n",
       "5012                               Darkened Skye               0.015394   \n",
       "5013          Burnout Paradise: The Ultimate Box               0.062339   \n",
       "5014                                   Soul Edge               1.458211   \n",
       "5015                                    Whiteout               0.029069   \n",
       "\n",
       "     Actual_Global_Sales  \n",
       "0                   1.91  \n",
       "1                   0.06  \n",
       "2                   0.13  \n",
       "3                   3.11  \n",
       "4                   0.06  \n",
       "...                  ...  \n",
       "5011                0.05  \n",
       "5012                0.01  \n",
       "5013                0.07  \n",
       "5014                1.59  \n",
       "5015                0.03  \n",
       "\n",
       "[5016 rows x 3 columns]"
      ]
     },
     "execution_count": 163,
     "metadata": {},
     "output_type": "execute_result"
    }
   ],
   "source": [
    "predictions"
   ]
  },
  {
   "cell_type": "markdown",
   "id": "351cfe47",
   "metadata": {},
   "source": [
    "Evaluating model performance\n",
    "We’ll use r2_score  and root mean squared error (RMSE) to evaluate the model performance where closer the r2_score is to 1 & lower the magnitude of RMSE, the better the model is.\n",
    "\n"
   ]
  },
  {
   "cell_type": "code",
   "execution_count": 164,
   "id": "fbc6a03b",
   "metadata": {},
   "outputs": [
    {
     "name": "stdout",
     "output_type": "stream",
     "text": [
      "r2 score of the model : 0.893\n",
      "Root Mean Squared Error of the model : 0.503\n"
     ]
    }
   ],
   "source": [
    "from sklearn.metrics import r2_score, mean_squared_error\n",
    "import math\n",
    "r2_score = r2_score(y_test, y_pred)\n",
    "rmse = math.sqrt(mean_squared_error(y_test, y_pred))\n",
    "\n",
    "print(f\"r2 score of the model : {r2_score:.3f}\")\n",
    "print(f\"Root Mean Squared Error of the model : {rmse:.3f}\")"
   ]
  },
  {
   "cell_type": "markdown",
   "id": "6f99745b",
   "metadata": {},
   "source": [
    "# GradientBoostingRegressor model"
   ]
  },
  {
   "cell_type": "code",
   "execution_count": 165,
   "id": "e3ee8012",
   "metadata": {},
   "outputs": [
    {
     "name": "stdout",
     "output_type": "stream",
     "text": [
      "Best parameters: {'max_depth': 5, 'max_features': 12, 'n_estimators': 500}\n",
      "Best cross-validation score: 0.71\n",
      "Test set score: 0.38\n"
     ]
    }
   ],
   "source": [
    "from sklearn.model_selection import GridSearchCV\n",
    "from sklearn.ensemble import GradientBoostingRegressor\n",
    "\n",
    "#Parameter grid for Gradient Boosting Regressor\n",
    "param_grid_gbr = [\n",
    "    {'n_estimators': [200, 500],'max_features': [6, 8, 10, 12], 'max_depth': [5, 7, 9]}]\n",
    "\n",
    "grid_search_gbr = GridSearchCV(GradientBoostingRegressor(n_estimators=200), param_grid_gbr, cv=5, scoring='neg_mean_squared_error')\n",
    "grid_search_gbr.fit(X_train, y_train)\n",
    "print(\"Best parameters: {}\".format(grid_search_gbr.best_params_))\n",
    "gbr_best_cross_val_score = (np.sqrt(-grid_search_gbr.best_score_))\n",
    "print(\"Best cross-validation score: {:.2f}\".format(np.expm1(gbr_best_cross_val_score)))\n",
    "gbr_score = np.sqrt(-grid_search_gbr.score(X_test, y_test))\n",
    "print(\"Test set score: {:.2f}\".format(np.expm1(gbr_score)))"
   ]
  },
  {
   "cell_type": "code",
   "execution_count": 166,
   "id": "aac17a16",
   "metadata": {},
   "outputs": [
    {
     "data": {
      "text/plain": [
       "0.5350704310919268"
      ]
     },
     "execution_count": 166,
     "metadata": {},
     "output_type": "execute_result"
    }
   ],
   "source": [
    "gbr_best_cross_val_score"
   ]
  },
  {
   "cell_type": "code",
   "execution_count": 169,
   "id": "2d5a9997",
   "metadata": {},
   "outputs": [
    {
     "data": {
      "text/plain": [
       "0.31981482245949644"
      ]
     },
     "execution_count": 169,
     "metadata": {},
     "output_type": "execute_result"
    }
   ],
   "source": [
    "gbr_score"
   ]
  },
  {
   "cell_type": "code",
   "execution_count": null,
   "id": "d99d58e3",
   "metadata": {},
   "outputs": [],
   "source": [
    "from sklearn.model_selection import GridSearchCV\n",
    "from sklearn.ensemble import GradientBoostingRegressor\n",
    "\n",
    "Y_train = np.log1p(y_train)\n",
    "Y_test = np.log1p(y_test)\n",
    "\n",
    "#Parameter grid for Gradient Boosting Regressor\n",
    "param_grid_gbr = [\n",
    "    {'n_estimators': [200, 500],'max_features': [6, 8, 10, 12], 'max_depth': [5, 7, 9]}]\n",
    "\n",
    "grid_search_gbr = GridSearchCV(GradientBoostingRegressor(n_estimators=200), param_grid_gbr, cv=5, scoring='neg_mean_squared_error')\n",
    "grid_search_gbr.fit(X_train, y_train)\n",
    "print(\"Best parameters: {}\".format(grid_search_gbr.best_params_))\n",
    "gbr_best_cross_val_score = (np.sqrt(-grid_search_gbr.best_score_))\n",
    "print(\"Best cross-validation score: {:.2f}\".format(gbr_best_cross_val_score))\n",
    "gbr_score = np.sqrt(-grid_search_gbr.score(X_test, y_test))\n",
    "print(\"Test set score: {:.2f}\".format(gbr_score))"
   ]
  },
  {
   "cell_type": "code",
   "execution_count": 171,
   "id": "f9cdc016",
   "metadata": {},
   "outputs": [
    {
     "name": "stdout",
     "output_type": "stream",
     "text": [
      "Best cross-validation score: 0.54\n",
      "Test set score: 0.32\n"
     ]
    }
   ],
   "source": [
    "gbr_best_cross_val_score = (np.sqrt(-grid_search_gbr.best_score_))\n",
    "print(\"Best cross-validation score: {:.2f}\".format(gbr_best_cross_val_score))\n",
    "gbr_score = np.sqrt(-grid_search_gbr.score(X_test, y_test))\n",
    "print(\"Test set score: {:.2f}\".format(gbr_score))"
   ]
  },
  {
   "cell_type": "markdown",
   "id": "6768ff83",
   "metadata": {},
   "source": [
    "# LinearRegression Model"
   ]
  },
  {
   "cell_type": "code",
   "execution_count": 179,
   "id": "e8cc3260",
   "metadata": {},
   "outputs": [
    {
     "name": "stdout",
     "output_type": "stream",
     "text": [
      "score train : 0.9999886794547679\n",
      "score test : 0.9999887283843713\n",
      "mse test: 0.005162787548199921\n"
     ]
    }
   ],
   "source": [
    "from sklearn.linear_model import LinearRegression\n",
    "\n",
    "l_reg = LinearRegression()\n",
    "l_reg.fit(X_train, y_train)\n",
    "pred_test = l_reg.predict(X_test)\n",
    "\n",
    "print(\"score train :\", l_reg.score(X_train, y_train))\n",
    "print(\"score test :\", l_reg.score(X_test, y_test))\n",
    "print(\"mse test:\", np.sqrt(mean_squared_error(pred_test, y_test)))"
   ]
  },
  {
   "cell_type": "markdown",
   "id": "b7ecf73e",
   "metadata": {},
   "source": [
    "# Change from Regression to Classification model"
   ]
  },
  {
   "cell_type": "code",
   "execution_count": 200,
   "id": "24d7d73f",
   "metadata": {},
   "outputs": [
    {
     "name": "stdout",
     "output_type": "stream",
     "text": [
      "count    16717.000000\n",
      "mean         0.533462\n",
      "std          1.547956\n",
      "min          0.010000\n",
      "25%          0.060000\n",
      "50%          0.170000\n",
      "75%          0.470000\n",
      "max         82.530000\n",
      "Name: Global_Sales, dtype: float64\n"
     ]
    }
   ],
   "source": [
    "print(y.describe())\n",
    "bin_labels_3 = [ 'Silver', 'Gold', 'Platinum']\n",
    "\n",
    "bin_labels_4 = [ 'Silver', 'Gold', 'Platinum', 'Diamond']\n",
    "\n",
    "bin_labels_5 = ['Bronze', 'Silver', 'Gold', 'Platinum', 'Diamond']\n",
    "bin_labels_10 = ['0', '1','2','3','4','5','6','7','8','9']#, '10','11','12','13','14']\n",
    "\n",
    "label = pd.qcut(y, q=3, retbins = True, labels=bin_labels_3)\n",
    "X_train1, X_test1, y_train1, y_test1 = train_test_split(X, label[0], test_size= 0.3, random_state=42)\n",
    "\n",
    "# Saving name of the games in training and test set\n",
    "games_in_training_set = X_train1.loc[:,'Name']\n",
    "games_in_test_set = X_test1.loc[:,'Name']\n",
    "\n",
    "# Dropping the column that contains the name of the games\n",
    "X_train1 = X_train1.drop('Name', axis=1)\n",
    "X_test1 = X_test1.drop('Name', axis=1)\n",
    "\n",
    "from sklearn.compose import ColumnTransformer\n",
    "from sklearn.preprocessing import OneHotEncoder\n",
    "\n",
    "ct = ColumnTransformer(transformers = [('encoder', OneHotEncoder(), ['Genre', 'Rating'])], remainder = 'passthrough') \n",
    "X_train1 = ct.fit_transform(X_train1)\n",
    "X_test1 = ct.transform(X_test1)"
   ]
  },
  {
   "cell_type": "code",
   "execution_count": 201,
   "id": "8ce13132",
   "metadata": {},
   "outputs": [
    {
     "data": {
      "text/plain": [
       "0.9049043062200957"
      ]
     },
     "execution_count": 201,
     "metadata": {},
     "output_type": "execute_result"
    }
   ],
   "source": [
    "# Classification using LogisticRegession\n",
    "from sklearn.linear_model import LogisticRegression\n",
    "\n",
    "lg = LogisticRegression(max_iter = 1000, n_jobs = -1)\n",
    "lg.fit(X_train1, y_train1)\n",
    "lg.score(X_test1, y_test1)"
   ]
  },
  {
   "cell_type": "code",
   "execution_count": null,
   "id": "0dca3b7d",
   "metadata": {},
   "outputs": [],
   "source": []
  }
 ],
 "metadata": {
  "kernelspec": {
   "display_name": "Python 3",
   "language": "python",
   "name": "python3"
  },
  "language_info": {
   "codemirror_mode": {
    "name": "ipython",
    "version": 3
   },
   "file_extension": ".py",
   "mimetype": "text/x-python",
   "name": "python",
   "nbconvert_exporter": "python",
   "pygments_lexer": "ipython3",
   "version": "3.8.8"
  }
 },
 "nbformat": 4,
 "nbformat_minor": 5
}
