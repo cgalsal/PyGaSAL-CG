{
 "cells": [
  {
   "cell_type": "markdown",
   "source": [
    "Than this exercise, I want to review if the outliers have any influence in the results.\r\n",
    "Also, we will perform build a cnn model for the data."
   ],
   "metadata": {}
  },
  {
   "cell_type": "code",
   "execution_count": 1,
   "source": [
    "import pandas as pd\r\n",
    "import numpy as np\r\n",
    "from sklearn.preprocessing import PolynomialFeatures\r\n",
    "from sklearn.linear_model import LinearRegression, LogisticRegression\r\n",
    "import matplotlib.pyplot as plt\r\n",
    "import seaborn as sns\r\n",
    "\r\n",
    "from sklearn.preprocessing import MinMaxScaler, StandardScaler\r\n",
    "from sklearn.model_selection import cross_validate, cross_val_predict, cross_val_score, train_test_split\r\n",
    "from sklearn.metrics import mean_squared_error\r\n",
    "from sklearn.linear_model import Ridge, LassoCV\r\n"
   ],
   "outputs": [],
   "metadata": {}
  },
  {
   "cell_type": "markdown",
   "source": [
    "# Concatenation the five metacritic datasets"
   ],
   "metadata": {}
  },
  {
   "cell_type": "code",
   "execution_count": null,
   "source": [
    "# upload all different files of meta data\r\n",
    "df0 =pd.read_csv('Meta_vg_0.csv')\r\n",
    "df1 =pd.read_csv('Meta_vg_1.csv')\r\n",
    "df2 =pd.read_csv('Meta_vg_2.csv')\r\n",
    "df3 =pd.read_csv('Meta_vg_3.csv')\r\n",
    "df4 =d.read_csv('Meta_vg_4.csv')\r\n",
    "# chage release date to be only year of release\r\n",
    "df0['Year'] = pd.DatetimeIndex(df0['Year']).year\r\n",
    "df1['Year'] = pd.DatetimeIndex(df1['Year']).year\r\n",
    "df2['Year'] = pd.DatetimeIndex(df2['Year']).year\r\n",
    "df3['Year'] = pd.DatetimeIndex(df3['Year']).year\r\n",
    "df4['Year'] = pd.DatetimeIndex(df4['Year']).year\r\n",
    "\r\n",
    "# concatenate all different files of metacritics and remove duplicate rows\r\n",
    "df = pd.concat([df0,df1,df2, df3, df4]).drop_duplicates(subset = ['Name', 'Platform', 'Year']).reset_index(drop=True)\r\n",
    "\r\n",
    "# change non numeric values in Meta_Scor and User_Score columns to NaN and then drop line with NaN values\r\n",
    "\r\n",
    "df['User_Score'] = pd.to_numeric(df['User_Score'], errors='coerce')\r\n",
    "df['Meta_Score'] = pd.to_numeric(df['Meta_Score'], errors='coerce')\r\n",
    "    \r\n",
    "# drop rows with Nan values \r\n",
    "df.dropna( inplace= True)\r\n",
    "\r\n",
    "# save final file to csv file\r\n",
    "df.to_csv('Meta_vg.csv',sep=',', encoding='utf-8', index=False)\r\n",
    "(df.Name=='WII SPORTS').sum()"
   ],
   "outputs": [],
   "metadata": {}
  },
  {
   "cell_type": "markdown",
   "source": [
    "# Merge the original Vgame_sales with metacritic dataset"
   ],
   "metadata": {}
  },
  {
   "cell_type": "code",
   "execution_count": null,
   "source": [
    "# upload the meta critic data\r\n",
    "\r\n",
    "meta =pd.read_csv('Meta_vg.csv')\r\n",
    "# upload the vedio game sales data\r\n",
    "\r\n",
    "vgsl = pd.read_csv('vgsales.csv')\r\n",
    "# Standarize the values the Name and Platform columns to Upper letters\r\n",
    "\r\n",
    "meta[\"Name\"] = meta[\"Name\"].str.normalize('NFKD').str.encode('ascii', errors = 'ignore').str.decode('utf-8').str.upper()\r\n",
    "vgsl[\"Name\"] = vgsl[\"Name\"].str.normalize('NFKD').str.encode('ascii', errors = 'ignore').str.decode('utf-8').str.upper()\r\n",
    "\r\n",
    "meta[\"Platform\"] = meta[\"Platform\"].str.normalize('NFKD').str.encode('ascii', errors = 'ignore').str.decode('utf-8').str.upper()\r\n",
    "vgsl[\"Platform\"] = vgsl[\"Platform\"].str.normalize('NFKD').str.encode('ascii', errors = 'ignore').str.decode('utf-8').str.upper()\r\n",
    "\r\n",
    "# merge all rows in both dataset with similar Name, Platform, and Year\r\n",
    "\r\n",
    "vg_meta = vgsl.merge(meta, how='inner', left_on=['Name', 'Platform','Year'], right_on=['Name', 'Platform','Year']).drop_duplicates(subset = ['Name', 'Platform', 'Year'])\r\n",
    "\r\n",
    "# drop rows with NaN value\r\n",
    "vg_meta.dropna(inplace=True)\r\n",
    "vg_meta.to_csv('VG_Meta_Score.csv',sep=',', encoding='utf-8', index=False)\r\n"
   ],
   "outputs": [],
   "metadata": {}
  },
  {
   "cell_type": "code",
   "execution_count": 34,
   "source": [
    "df = pd.read_csv('VG_Meta_Score.csv')\r\n",
    "print(df.shape)\r\n",
    "df.head()"
   ],
   "outputs": [
    {
     "output_type": "stream",
     "name": "stdout",
     "text": [
      "(5044, 13)\n"
     ]
    },
    {
     "output_type": "execute_result",
     "data": {
      "text/html": [
       "<div>\n",
       "<style scoped>\n",
       "    .dataframe tbody tr th:only-of-type {\n",
       "        vertical-align: middle;\n",
       "    }\n",
       "\n",
       "    .dataframe tbody tr th {\n",
       "        vertical-align: top;\n",
       "    }\n",
       "\n",
       "    .dataframe thead th {\n",
       "        text-align: right;\n",
       "    }\n",
       "</style>\n",
       "<table border=\"1\" class=\"dataframe\">\n",
       "  <thead>\n",
       "    <tr style=\"text-align: right;\">\n",
       "      <th></th>\n",
       "      <th>Rank</th>\n",
       "      <th>Name</th>\n",
       "      <th>Platform</th>\n",
       "      <th>Year</th>\n",
       "      <th>Genre</th>\n",
       "      <th>Publisher</th>\n",
       "      <th>NA_Sales</th>\n",
       "      <th>EU_Sales</th>\n",
       "      <th>JP_Sales</th>\n",
       "      <th>Other_Sales</th>\n",
       "      <th>Global_Sales</th>\n",
       "      <th>Meta_Score</th>\n",
       "      <th>User_Score</th>\n",
       "    </tr>\n",
       "  </thead>\n",
       "  <tbody>\n",
       "    <tr>\n",
       "      <th>0</th>\n",
       "      <td>1</td>\n",
       "      <td>WII SPORTS</td>\n",
       "      <td>WII</td>\n",
       "      <td>2006.0</td>\n",
       "      <td>Sports</td>\n",
       "      <td>Nintendo</td>\n",
       "      <td>41.49</td>\n",
       "      <td>29.02</td>\n",
       "      <td>3.77</td>\n",
       "      <td>8.46</td>\n",
       "      <td>82.74</td>\n",
       "      <td>76</td>\n",
       "      <td>8.1</td>\n",
       "    </tr>\n",
       "    <tr>\n",
       "      <th>1</th>\n",
       "      <td>3</td>\n",
       "      <td>MARIO KART WII</td>\n",
       "      <td>WII</td>\n",
       "      <td>2008.0</td>\n",
       "      <td>Racing</td>\n",
       "      <td>Nintendo</td>\n",
       "      <td>15.85</td>\n",
       "      <td>12.88</td>\n",
       "      <td>3.79</td>\n",
       "      <td>3.31</td>\n",
       "      <td>35.82</td>\n",
       "      <td>82</td>\n",
       "      <td>8.4</td>\n",
       "    </tr>\n",
       "    <tr>\n",
       "      <th>2</th>\n",
       "      <td>4</td>\n",
       "      <td>WII SPORTS RESORT</td>\n",
       "      <td>WII</td>\n",
       "      <td>2009.0</td>\n",
       "      <td>Sports</td>\n",
       "      <td>Nintendo</td>\n",
       "      <td>15.75</td>\n",
       "      <td>11.01</td>\n",
       "      <td>3.28</td>\n",
       "      <td>2.96</td>\n",
       "      <td>33.00</td>\n",
       "      <td>80</td>\n",
       "      <td>8.2</td>\n",
       "    </tr>\n",
       "    <tr>\n",
       "      <th>3</th>\n",
       "      <td>7</td>\n",
       "      <td>NEW SUPER MARIO BROS.</td>\n",
       "      <td>DS</td>\n",
       "      <td>2006.0</td>\n",
       "      <td>Platform</td>\n",
       "      <td>Nintendo</td>\n",
       "      <td>11.38</td>\n",
       "      <td>9.23</td>\n",
       "      <td>6.50</td>\n",
       "      <td>2.90</td>\n",
       "      <td>30.01</td>\n",
       "      <td>89</td>\n",
       "      <td>8.5</td>\n",
       "    </tr>\n",
       "    <tr>\n",
       "      <th>4</th>\n",
       "      <td>9</td>\n",
       "      <td>NEW SUPER MARIO BROS. WII</td>\n",
       "      <td>WII</td>\n",
       "      <td>2009.0</td>\n",
       "      <td>Platform</td>\n",
       "      <td>Nintendo</td>\n",
       "      <td>14.59</td>\n",
       "      <td>7.06</td>\n",
       "      <td>4.70</td>\n",
       "      <td>2.26</td>\n",
       "      <td>28.62</td>\n",
       "      <td>87</td>\n",
       "      <td>8.3</td>\n",
       "    </tr>\n",
       "  </tbody>\n",
       "</table>\n",
       "</div>"
      ],
      "text/plain": [
       "   Rank                       Name Platform    Year     Genre Publisher  \\\n",
       "0     1                 WII SPORTS      WII  2006.0    Sports  Nintendo   \n",
       "1     3             MARIO KART WII      WII  2008.0    Racing  Nintendo   \n",
       "2     4          WII SPORTS RESORT      WII  2009.0    Sports  Nintendo   \n",
       "3     7      NEW SUPER MARIO BROS.       DS  2006.0  Platform  Nintendo   \n",
       "4     9  NEW SUPER MARIO BROS. WII      WII  2009.0  Platform  Nintendo   \n",
       "\n",
       "   NA_Sales  EU_Sales  JP_Sales  Other_Sales  Global_Sales  Meta_Score  \\\n",
       "0     41.49     29.02      3.77         8.46         82.74          76   \n",
       "1     15.85     12.88      3.79         3.31         35.82          82   \n",
       "2     15.75     11.01      3.28         2.96         33.00          80   \n",
       "3     11.38      9.23      6.50         2.90         30.01          89   \n",
       "4     14.59      7.06      4.70         2.26         28.62          87   \n",
       "\n",
       "   User_Score  \n",
       "0         8.1  \n",
       "1         8.4  \n",
       "2         8.2  \n",
       "3         8.5  \n",
       "4         8.3  "
      ]
     },
     "metadata": {},
     "execution_count": 34
    }
   ],
   "metadata": {}
  },
  {
   "cell_type": "markdown",
   "source": [
    "## Data cleaning\n"
   ],
   "metadata": {}
  },
  {
   "cell_type": "code",
   "execution_count": 35,
   "source": [
    "print(df.describe().T)\r\n",
    "print(df.isnull().sum())\r\n",
    "df.head()"
   ],
   "outputs": [
    {
     "output_type": "stream",
     "name": "stdout",
     "text": [
      "               count         mean          std      min      25%      50%  \\\n",
      "Rank          5044.0  6211.623910  4487.369718     1.00  2347.75  5343.50   \n",
      "Year          5044.0  2007.647105     4.000591  1996.00  2005.00  2008.00   \n",
      "NA_Sales      5044.0     0.448953     1.074748     0.00     0.07     0.17   \n",
      "EU_Sales      5044.0     0.272873     0.746828     0.00     0.02     0.08   \n",
      "JP_Sales      5044.0     0.053872     0.251223     0.00     0.00     0.00   \n",
      "Other_Sales   5044.0     0.095535     0.282226     0.00     0.01     0.03   \n",
      "Global_Sales  5044.0     0.871455     2.134602     0.01     0.13     0.35   \n",
      "Meta_Score    5044.0    70.925852    13.576600    17.00    63.00    73.00   \n",
      "User_Score    5044.0    11.268993    15.479091     0.50     6.60     7.60   \n",
      "\n",
      "                  75%       max  \n",
      "Rank          9518.75  16580.00  \n",
      "Year          2011.00   2016.00  \n",
      "NA_Sales         0.45     41.49  \n",
      "EU_Sales         0.25     29.02  \n",
      "JP_Sales         0.01      6.50  \n",
      "Other_Sales      0.09     10.57  \n",
      "Global_Sales     0.89     82.74  \n",
      "Meta_Score      81.00     99.00  \n",
      "User_Score       8.30     92.00  \n",
      "Rank            0\n",
      "Name            0\n",
      "Platform        0\n",
      "Year            0\n",
      "Genre           0\n",
      "Publisher       0\n",
      "NA_Sales        0\n",
      "EU_Sales        0\n",
      "JP_Sales        0\n",
      "Other_Sales     0\n",
      "Global_Sales    0\n",
      "Meta_Score      0\n",
      "User_Score      0\n",
      "dtype: int64\n"
     ]
    },
    {
     "output_type": "execute_result",
     "data": {
      "text/html": [
       "<div>\n",
       "<style scoped>\n",
       "    .dataframe tbody tr th:only-of-type {\n",
       "        vertical-align: middle;\n",
       "    }\n",
       "\n",
       "    .dataframe tbody tr th {\n",
       "        vertical-align: top;\n",
       "    }\n",
       "\n",
       "    .dataframe thead th {\n",
       "        text-align: right;\n",
       "    }\n",
       "</style>\n",
       "<table border=\"1\" class=\"dataframe\">\n",
       "  <thead>\n",
       "    <tr style=\"text-align: right;\">\n",
       "      <th></th>\n",
       "      <th>Rank</th>\n",
       "      <th>Name</th>\n",
       "      <th>Platform</th>\n",
       "      <th>Year</th>\n",
       "      <th>Genre</th>\n",
       "      <th>Publisher</th>\n",
       "      <th>NA_Sales</th>\n",
       "      <th>EU_Sales</th>\n",
       "      <th>JP_Sales</th>\n",
       "      <th>Other_Sales</th>\n",
       "      <th>Global_Sales</th>\n",
       "      <th>Meta_Score</th>\n",
       "      <th>User_Score</th>\n",
       "    </tr>\n",
       "  </thead>\n",
       "  <tbody>\n",
       "    <tr>\n",
       "      <th>0</th>\n",
       "      <td>1</td>\n",
       "      <td>WII SPORTS</td>\n",
       "      <td>WII</td>\n",
       "      <td>2006.0</td>\n",
       "      <td>Sports</td>\n",
       "      <td>Nintendo</td>\n",
       "      <td>41.49</td>\n",
       "      <td>29.02</td>\n",
       "      <td>3.77</td>\n",
       "      <td>8.46</td>\n",
       "      <td>82.74</td>\n",
       "      <td>76</td>\n",
       "      <td>8.1</td>\n",
       "    </tr>\n",
       "    <tr>\n",
       "      <th>1</th>\n",
       "      <td>3</td>\n",
       "      <td>MARIO KART WII</td>\n",
       "      <td>WII</td>\n",
       "      <td>2008.0</td>\n",
       "      <td>Racing</td>\n",
       "      <td>Nintendo</td>\n",
       "      <td>15.85</td>\n",
       "      <td>12.88</td>\n",
       "      <td>3.79</td>\n",
       "      <td>3.31</td>\n",
       "      <td>35.82</td>\n",
       "      <td>82</td>\n",
       "      <td>8.4</td>\n",
       "    </tr>\n",
       "    <tr>\n",
       "      <th>2</th>\n",
       "      <td>4</td>\n",
       "      <td>WII SPORTS RESORT</td>\n",
       "      <td>WII</td>\n",
       "      <td>2009.0</td>\n",
       "      <td>Sports</td>\n",
       "      <td>Nintendo</td>\n",
       "      <td>15.75</td>\n",
       "      <td>11.01</td>\n",
       "      <td>3.28</td>\n",
       "      <td>2.96</td>\n",
       "      <td>33.00</td>\n",
       "      <td>80</td>\n",
       "      <td>8.2</td>\n",
       "    </tr>\n",
       "    <tr>\n",
       "      <th>3</th>\n",
       "      <td>7</td>\n",
       "      <td>NEW SUPER MARIO BROS.</td>\n",
       "      <td>DS</td>\n",
       "      <td>2006.0</td>\n",
       "      <td>Platform</td>\n",
       "      <td>Nintendo</td>\n",
       "      <td>11.38</td>\n",
       "      <td>9.23</td>\n",
       "      <td>6.50</td>\n",
       "      <td>2.90</td>\n",
       "      <td>30.01</td>\n",
       "      <td>89</td>\n",
       "      <td>8.5</td>\n",
       "    </tr>\n",
       "    <tr>\n",
       "      <th>4</th>\n",
       "      <td>9</td>\n",
       "      <td>NEW SUPER MARIO BROS. WII</td>\n",
       "      <td>WII</td>\n",
       "      <td>2009.0</td>\n",
       "      <td>Platform</td>\n",
       "      <td>Nintendo</td>\n",
       "      <td>14.59</td>\n",
       "      <td>7.06</td>\n",
       "      <td>4.70</td>\n",
       "      <td>2.26</td>\n",
       "      <td>28.62</td>\n",
       "      <td>87</td>\n",
       "      <td>8.3</td>\n",
       "    </tr>\n",
       "  </tbody>\n",
       "</table>\n",
       "</div>"
      ],
      "text/plain": [
       "   Rank                       Name Platform    Year     Genre Publisher  \\\n",
       "0     1                 WII SPORTS      WII  2006.0    Sports  Nintendo   \n",
       "1     3             MARIO KART WII      WII  2008.0    Racing  Nintendo   \n",
       "2     4          WII SPORTS RESORT      WII  2009.0    Sports  Nintendo   \n",
       "3     7      NEW SUPER MARIO BROS.       DS  2006.0  Platform  Nintendo   \n",
       "4     9  NEW SUPER MARIO BROS. WII      WII  2009.0  Platform  Nintendo   \n",
       "\n",
       "   NA_Sales  EU_Sales  JP_Sales  Other_Sales  Global_Sales  Meta_Score  \\\n",
       "0     41.49     29.02      3.77         8.46         82.74          76   \n",
       "1     15.85     12.88      3.79         3.31         35.82          82   \n",
       "2     15.75     11.01      3.28         2.96         33.00          80   \n",
       "3     11.38      9.23      6.50         2.90         30.01          89   \n",
       "4     14.59      7.06      4.70         2.26         28.62          87   \n",
       "\n",
       "   User_Score  \n",
       "0         8.1  \n",
       "1         8.4  \n",
       "2         8.2  \n",
       "3         8.5  \n",
       "4         8.3  "
      ]
     },
     "metadata": {},
     "execution_count": 35
    }
   ],
   "metadata": {}
  },
  {
   "cell_type": "code",
   "execution_count": 36,
   "source": [
    "df.describe()"
   ],
   "outputs": [
    {
     "output_type": "execute_result",
     "data": {
      "text/html": [
       "<div>\n",
       "<style scoped>\n",
       "    .dataframe tbody tr th:only-of-type {\n",
       "        vertical-align: middle;\n",
       "    }\n",
       "\n",
       "    .dataframe tbody tr th {\n",
       "        vertical-align: top;\n",
       "    }\n",
       "\n",
       "    .dataframe thead th {\n",
       "        text-align: right;\n",
       "    }\n",
       "</style>\n",
       "<table border=\"1\" class=\"dataframe\">\n",
       "  <thead>\n",
       "    <tr style=\"text-align: right;\">\n",
       "      <th></th>\n",
       "      <th>Rank</th>\n",
       "      <th>Year</th>\n",
       "      <th>NA_Sales</th>\n",
       "      <th>EU_Sales</th>\n",
       "      <th>JP_Sales</th>\n",
       "      <th>Other_Sales</th>\n",
       "      <th>Global_Sales</th>\n",
       "      <th>Meta_Score</th>\n",
       "      <th>User_Score</th>\n",
       "    </tr>\n",
       "  </thead>\n",
       "  <tbody>\n",
       "    <tr>\n",
       "      <th>count</th>\n",
       "      <td>5044.000000</td>\n",
       "      <td>5044.000000</td>\n",
       "      <td>5044.000000</td>\n",
       "      <td>5044.000000</td>\n",
       "      <td>5044.000000</td>\n",
       "      <td>5044.000000</td>\n",
       "      <td>5044.000000</td>\n",
       "      <td>5044.000000</td>\n",
       "      <td>5044.000000</td>\n",
       "    </tr>\n",
       "    <tr>\n",
       "      <th>mean</th>\n",
       "      <td>6211.623910</td>\n",
       "      <td>2007.647105</td>\n",
       "      <td>0.448953</td>\n",
       "      <td>0.272873</td>\n",
       "      <td>0.053872</td>\n",
       "      <td>0.095535</td>\n",
       "      <td>0.871455</td>\n",
       "      <td>70.925852</td>\n",
       "      <td>11.268993</td>\n",
       "    </tr>\n",
       "    <tr>\n",
       "      <th>std</th>\n",
       "      <td>4487.369718</td>\n",
       "      <td>4.000591</td>\n",
       "      <td>1.074748</td>\n",
       "      <td>0.746828</td>\n",
       "      <td>0.251223</td>\n",
       "      <td>0.282226</td>\n",
       "      <td>2.134602</td>\n",
       "      <td>13.576600</td>\n",
       "      <td>15.479091</td>\n",
       "    </tr>\n",
       "    <tr>\n",
       "      <th>min</th>\n",
       "      <td>1.000000</td>\n",
       "      <td>1996.000000</td>\n",
       "      <td>0.000000</td>\n",
       "      <td>0.000000</td>\n",
       "      <td>0.000000</td>\n",
       "      <td>0.000000</td>\n",
       "      <td>0.010000</td>\n",
       "      <td>17.000000</td>\n",
       "      <td>0.500000</td>\n",
       "    </tr>\n",
       "    <tr>\n",
       "      <th>25%</th>\n",
       "      <td>2347.750000</td>\n",
       "      <td>2005.000000</td>\n",
       "      <td>0.070000</td>\n",
       "      <td>0.020000</td>\n",
       "      <td>0.000000</td>\n",
       "      <td>0.010000</td>\n",
       "      <td>0.130000</td>\n",
       "      <td>63.000000</td>\n",
       "      <td>6.600000</td>\n",
       "    </tr>\n",
       "    <tr>\n",
       "      <th>50%</th>\n",
       "      <td>5343.500000</td>\n",
       "      <td>2008.000000</td>\n",
       "      <td>0.170000</td>\n",
       "      <td>0.080000</td>\n",
       "      <td>0.000000</td>\n",
       "      <td>0.030000</td>\n",
       "      <td>0.350000</td>\n",
       "      <td>73.000000</td>\n",
       "      <td>7.600000</td>\n",
       "    </tr>\n",
       "    <tr>\n",
       "      <th>75%</th>\n",
       "      <td>9518.750000</td>\n",
       "      <td>2011.000000</td>\n",
       "      <td>0.450000</td>\n",
       "      <td>0.250000</td>\n",
       "      <td>0.010000</td>\n",
       "      <td>0.090000</td>\n",
       "      <td>0.890000</td>\n",
       "      <td>81.000000</td>\n",
       "      <td>8.300000</td>\n",
       "    </tr>\n",
       "    <tr>\n",
       "      <th>max</th>\n",
       "      <td>16580.000000</td>\n",
       "      <td>2016.000000</td>\n",
       "      <td>41.490000</td>\n",
       "      <td>29.020000</td>\n",
       "      <td>6.500000</td>\n",
       "      <td>10.570000</td>\n",
       "      <td>82.740000</td>\n",
       "      <td>99.000000</td>\n",
       "      <td>92.000000</td>\n",
       "    </tr>\n",
       "  </tbody>\n",
       "</table>\n",
       "</div>"
      ],
      "text/plain": [
       "               Rank         Year     NA_Sales     EU_Sales     JP_Sales  \\\n",
       "count   5044.000000  5044.000000  5044.000000  5044.000000  5044.000000   \n",
       "mean    6211.623910  2007.647105     0.448953     0.272873     0.053872   \n",
       "std     4487.369718     4.000591     1.074748     0.746828     0.251223   \n",
       "min        1.000000  1996.000000     0.000000     0.000000     0.000000   \n",
       "25%     2347.750000  2005.000000     0.070000     0.020000     0.000000   \n",
       "50%     5343.500000  2008.000000     0.170000     0.080000     0.000000   \n",
       "75%     9518.750000  2011.000000     0.450000     0.250000     0.010000   \n",
       "max    16580.000000  2016.000000    41.490000    29.020000     6.500000   \n",
       "\n",
       "       Other_Sales  Global_Sales   Meta_Score   User_Score  \n",
       "count  5044.000000   5044.000000  5044.000000  5044.000000  \n",
       "mean      0.095535      0.871455    70.925852    11.268993  \n",
       "std       0.282226      2.134602    13.576600    15.479091  \n",
       "min       0.000000      0.010000    17.000000     0.500000  \n",
       "25%       0.010000      0.130000    63.000000     6.600000  \n",
       "50%       0.030000      0.350000    73.000000     7.600000  \n",
       "75%       0.090000      0.890000    81.000000     8.300000  \n",
       "max      10.570000     82.740000    99.000000    92.000000  "
      ]
     },
     "metadata": {},
     "execution_count": 36
    }
   ],
   "metadata": {}
  },
  {
   "cell_type": "markdown",
   "source": [
    "Add boxplots"
   ],
   "metadata": {}
  },
  {
   "cell_type": "code",
   "execution_count": 37,
   "source": [
    "df.drop(df[df['Global_Sales'] > 20].index, inplace = True)\r\n",
    "df.boxplot(column= 'Global_Sales', by='Year', figsize= (7,7))\r\n",
    "plt.xticks(rotation=90);"
   ],
   "outputs": [
    {
     "output_type": "display_data",
     "data": {
      "image/png": "[encoded data removed]",
      "text/plain": [
       "<Figure size 504x504 with 1 Axes>"
      ]
     },
     "metadata": {
      "needs_background": "light"
     }
    }
   ],
   "metadata": {}
  },
  {
   "cell_type": "code",
   "execution_count": 43,
   "source": [
    "df.Global_Sales[df['Year']==2009.0].sum()"
   ],
   "outputs": [
    {
     "output_type": "execute_result",
     "data": {
      "text/plain": [
       "342.66"
      ]
     },
     "metadata": {},
     "execution_count": 43
    }
   ],
   "metadata": {}
  },
  {
   "cell_type": "code",
   "execution_count": 46,
   "source": [
    "plt.figure(figsize=(15,7))\r\n",
    "plt.xlabel('Year',fontsize=12)\r\n",
    "plt.ylabel('Number of titles published per year', fontsize=12)\r\n",
    "plt.hist(df['Year'],bins=[a for a in range(1980,2021)],rwidth=0.5)\r\n",
    "plt.grid()\r\n",
    "plt.show()"
   ],
   "outputs": [
    {
     "output_type": "display_data",
     "data": {
      "image/png": "[encoded data removed]",
      "text/plain": [
       "<Figure size 1080x504 with 1 Axes>"
      ]
     },
     "metadata": {
      "needs_background": "light"
     }
    }
   ],
   "metadata": {}
  },
  {
   "cell_type": "code",
   "execution_count": 50,
   "source": [
    "plt.figure(figsize=(15,7))\r\n",
    "plt.xlabel('Platform',fontsize=12)\r\n",
    "plt.ylabel('Number of titles published per platform', fontsize=12)\r\n",
    "plt.grid()\r\n",
    "sns.barplot(df['Platform'].value_counts().index, df['Platform'].value_counts(), data=df)"
   ],
   "outputs": [
    {
     "output_type": "stream",
     "name": "stderr",
     "text": [
      "C:\\Users\\cgals\\anaconda3\\lib\\site-packages\\seaborn\\_decorators.py:36: FutureWarning: Pass the following variables as keyword args: x, y. From version 0.12, the only valid positional argument will be `data`, and passing other arguments without an explicit keyword will result in an error or misinterpretation.\n",
      "  warnings.warn(\n"
     ]
    },
    {
     "output_type": "execute_result",
     "data": {
      "text/plain": [
       "<AxesSubplot:xlabel='Platform', ylabel='Platform'>"
      ]
     },
     "metadata": {},
     "execution_count": 50
    },
    {
     "output_type": "display_data",
     "data": {
      "image/png": "[encoded data removed]",
      "text/plain": [
       "<Figure size 1080x504 with 1 Axes>"
      ]
     },
     "metadata": {
      "needs_background": "light"
     }
    }
   ],
   "metadata": {}
  },
  {
   "cell_type": "code",
   "execution_count": 49,
   "source": [
    "plt.figure(figsize=(20,7))\r\n",
    "sns.barplot(df['Genre'].value_counts().index,df['Genre'].value_counts())\r\n",
    "plt.xlabel('Genre',fontsize=12)\r\n",
    "plt.ylabel('Number of titles published per genre', fontsize=12)\r\n",
    "plt.xticks(fontsize=10) \r\n",
    "plt.yticks(fontsize=10) \r\n",
    "plt.grid()\r\n",
    "plt.show()\r\n"
   ],
   "outputs": [
    {
     "output_type": "stream",
     "name": "stderr",
     "text": [
      "C:\\Users\\cgals\\anaconda3\\lib\\site-packages\\seaborn\\_decorators.py:36: FutureWarning: Pass the following variables as keyword args: x, y. From version 0.12, the only valid positional argument will be `data`, and passing other arguments without an explicit keyword will result in an error or misinterpretation.\n",
      "  warnings.warn(\n"
     ]
    },
    {
     "output_type": "display_data",
     "data": {
      "image/png": "[encoded data removed]",
      "text/plain": [
       "<Figure size 1440x504 with 1 Axes>"
      ]
     },
     "metadata": {
      "needs_background": "light"
     }
    }
   ],
   "metadata": {}
  },
  {
   "cell_type": "markdown",
   "source": [
    "# Variables Correlation"
   ],
   "metadata": {}
  },
  {
   "cell_type": "code",
   "execution_count": 51,
   "source": [
    "import matplotlib.pyplot as plt\r\n",
    "import seaborn as sns\r\n",
    "\r\n",
    "plt.figure(figsize=(15,10))\r\n",
    "sns.heatmap(df.corr().abs().round(2),annot=True,fmt= '.3f')\r\n"
   ],
   "outputs": [
    {
     "output_type": "execute_result",
     "data": {
      "text/plain": [
       "<AxesSubplot:>"
      ]
     },
     "metadata": {},
     "execution_count": 51
    },
    {
     "output_type": "display_data",
     "data": {
      "image/png": "[encoded data removed]",
      "text/plain": [
       "<Figure size 1080x720 with 2 Axes>"
      ]
     },
     "metadata": {
      "needs_background": "light"
     }
    }
   ],
   "metadata": {}
  },
  {
   "cell_type": "markdown",
   "source": [
    "Based on correlation heat map only the sales numbers are highly correlated with each other. \n",
    "Higher correlations between sales variables help us to understand the global nature of the video game industry, so success on one continent usually means success on another as well. This finding support selecting the Global_Sales variable to be used as a dependent variable."
   ],
   "metadata": {}
  },
  {
   "cell_type": "code",
   "execution_count": 87,
   "source": [
    "cat_var = df.select_dtypes(exclude = np.number).columns\r\n",
    "df[cat_var].nunique()"
   ],
   "outputs": [
    {
     "output_type": "execute_result",
     "data": {
      "text/plain": [
       "Name         3336\n",
       "Platform       16\n",
       "Genre          12\n",
       "Publisher     204\n",
       "dtype: int64"
      ]
     },
     "metadata": {},
     "execution_count": 87
    }
   ],
   "metadata": {}
  },
  {
   "cell_type": "markdown",
   "source": [
    "Now we have to deal with categorical values in our dataset. We need to change the following independent variables to dummy variables:\n",
    "\n",
    "Platform, Genre, Publisher, and Name\n",
    "\n",
    "However, As we can see Name and Publisher variables have so many unique values which will cause a massive influx of features. So  so we will drop these two variable and create dummies only for Platform and Genre categorical variables\n"
   ],
   "metadata": {}
  },
  {
   "cell_type": "code",
   "execution_count": 88,
   "source": [
    "print(df.shape) #pre-dummies shape\r\n",
    "df1 = pd.get_dummies(data=df, columns=['Platform', 'Genre'])\r\n",
    "print(df1.shape) #post-dummies shape\r\n",
    "df1.head() #Check to verify that dummies are ok"
   ],
   "outputs": [
    {
     "output_type": "stream",
     "name": "stdout",
     "text": [
      "(5034, 13)\n",
      "(5034, 39)\n"
     ]
    },
    {
     "output_type": "execute_result",
     "data": {
      "text/html": [
       "<div>\n",
       "<style scoped>\n",
       "    .dataframe tbody tr th:only-of-type {\n",
       "        vertical-align: middle;\n",
       "    }\n",
       "\n",
       "    .dataframe tbody tr th {\n",
       "        vertical-align: top;\n",
       "    }\n",
       "\n",
       "    .dataframe thead th {\n",
       "        text-align: right;\n",
       "    }\n",
       "</style>\n",
       "<table border=\"1\" class=\"dataframe\">\n",
       "  <thead>\n",
       "    <tr style=\"text-align: right;\">\n",
       "      <th></th>\n",
       "      <th>Rank</th>\n",
       "      <th>Name</th>\n",
       "      <th>Year</th>\n",
       "      <th>Publisher</th>\n",
       "      <th>NA_Sales</th>\n",
       "      <th>EU_Sales</th>\n",
       "      <th>JP_Sales</th>\n",
       "      <th>Other_Sales</th>\n",
       "      <th>Global_Sales</th>\n",
       "      <th>Meta_Score</th>\n",
       "      <th>...</th>\n",
       "      <th>Genre_Fighting</th>\n",
       "      <th>Genre_Misc</th>\n",
       "      <th>Genre_Platform</th>\n",
       "      <th>Genre_Puzzle</th>\n",
       "      <th>Genre_Racing</th>\n",
       "      <th>Genre_Role-Playing</th>\n",
       "      <th>Genre_Shooter</th>\n",
       "      <th>Genre_Simulation</th>\n",
       "      <th>Genre_Sports</th>\n",
       "      <th>Genre_Strategy</th>\n",
       "    </tr>\n",
       "  </thead>\n",
       "  <tbody>\n",
       "    <tr>\n",
       "      <th>10</th>\n",
       "      <td>24</td>\n",
       "      <td>GRAND THEFT AUTO V</td>\n",
       "      <td>2013.0</td>\n",
       "      <td>Take-Two Interactive</td>\n",
       "      <td>9.63</td>\n",
       "      <td>5.31</td>\n",
       "      <td>0.06</td>\n",
       "      <td>1.38</td>\n",
       "      <td>16.38</td>\n",
       "      <td>97</td>\n",
       "      <td>...</td>\n",
       "      <td>0</td>\n",
       "      <td>0</td>\n",
       "      <td>0</td>\n",
       "      <td>0</td>\n",
       "      <td>0</td>\n",
       "      <td>0</td>\n",
       "      <td>0</td>\n",
       "      <td>0</td>\n",
       "      <td>0</td>\n",
       "      <td>0</td>\n",
       "    </tr>\n",
       "    <tr>\n",
       "      <th>11</th>\n",
       "      <td>25</td>\n",
       "      <td>GRAND THEFT AUTO: VICE CITY</td>\n",
       "      <td>2002.0</td>\n",
       "      <td>Take-Two Interactive</td>\n",
       "      <td>8.41</td>\n",
       "      <td>5.49</td>\n",
       "      <td>0.47</td>\n",
       "      <td>1.78</td>\n",
       "      <td>16.15</td>\n",
       "      <td>95</td>\n",
       "      <td>...</td>\n",
       "      <td>0</td>\n",
       "      <td>0</td>\n",
       "      <td>0</td>\n",
       "      <td>0</td>\n",
       "      <td>0</td>\n",
       "      <td>0</td>\n",
       "      <td>0</td>\n",
       "      <td>0</td>\n",
       "      <td>0</td>\n",
       "      <td>0</td>\n",
       "    </tr>\n",
       "    <tr>\n",
       "      <th>12</th>\n",
       "      <td>29</td>\n",
       "      <td>GRAN TURISMO 3: A-SPEC</td>\n",
       "      <td>2001.0</td>\n",
       "      <td>Sony Computer Entertainment</td>\n",
       "      <td>6.85</td>\n",
       "      <td>5.09</td>\n",
       "      <td>1.87</td>\n",
       "      <td>1.16</td>\n",
       "      <td>14.98</td>\n",
       "      <td>95</td>\n",
       "      <td>...</td>\n",
       "      <td>0</td>\n",
       "      <td>0</td>\n",
       "      <td>0</td>\n",
       "      <td>0</td>\n",
       "      <td>1</td>\n",
       "      <td>0</td>\n",
       "      <td>0</td>\n",
       "      <td>0</td>\n",
       "      <td>0</td>\n",
       "      <td>0</td>\n",
       "    </tr>\n",
       "    <tr>\n",
       "      <th>13</th>\n",
       "      <td>30</td>\n",
       "      <td>CALL OF DUTY: MODERN WARFARE 3</td>\n",
       "      <td>2011.0</td>\n",
       "      <td>Activision</td>\n",
       "      <td>9.03</td>\n",
       "      <td>4.28</td>\n",
       "      <td>0.13</td>\n",
       "      <td>1.32</td>\n",
       "      <td>14.76</td>\n",
       "      <td>88</td>\n",
       "      <td>...</td>\n",
       "      <td>0</td>\n",
       "      <td>0</td>\n",
       "      <td>0</td>\n",
       "      <td>0</td>\n",
       "      <td>0</td>\n",
       "      <td>0</td>\n",
       "      <td>1</td>\n",
       "      <td>0</td>\n",
       "      <td>0</td>\n",
       "      <td>0</td>\n",
       "    </tr>\n",
       "    <tr>\n",
       "      <th>14</th>\n",
       "      <td>32</td>\n",
       "      <td>CALL OF DUTY: BLACK OPS</td>\n",
       "      <td>2010.0</td>\n",
       "      <td>Activision</td>\n",
       "      <td>9.67</td>\n",
       "      <td>3.73</td>\n",
       "      <td>0.11</td>\n",
       "      <td>1.13</td>\n",
       "      <td>14.64</td>\n",
       "      <td>87</td>\n",
       "      <td>...</td>\n",
       "      <td>0</td>\n",
       "      <td>0</td>\n",
       "      <td>0</td>\n",
       "      <td>0</td>\n",
       "      <td>0</td>\n",
       "      <td>0</td>\n",
       "      <td>1</td>\n",
       "      <td>0</td>\n",
       "      <td>0</td>\n",
       "      <td>0</td>\n",
       "    </tr>\n",
       "  </tbody>\n",
       "</table>\n",
       "<p>5 rows × 39 columns</p>\n",
       "</div>"
      ],
      "text/plain": [
       "    Rank                            Name    Year                    Publisher  \\\n",
       "10    24              GRAND THEFT AUTO V  2013.0         Take-Two Interactive   \n",
       "11    25     GRAND THEFT AUTO: VICE CITY  2002.0         Take-Two Interactive   \n",
       "12    29          GRAN TURISMO 3: A-SPEC  2001.0  Sony Computer Entertainment   \n",
       "13    30  CALL OF DUTY: MODERN WARFARE 3  2011.0                   Activision   \n",
       "14    32         CALL OF DUTY: BLACK OPS  2010.0                   Activision   \n",
       "\n",
       "    NA_Sales  EU_Sales  JP_Sales  Other_Sales  Global_Sales  Meta_Score  ...  \\\n",
       "10      9.63      5.31      0.06         1.38         16.38          97  ...   \n",
       "11      8.41      5.49      0.47         1.78         16.15          95  ...   \n",
       "12      6.85      5.09      1.87         1.16         14.98          95  ...   \n",
       "13      9.03      4.28      0.13         1.32         14.76          88  ...   \n",
       "14      9.67      3.73      0.11         1.13         14.64          87  ...   \n",
       "\n",
       "    Genre_Fighting  Genre_Misc  Genre_Platform  Genre_Puzzle  Genre_Racing  \\\n",
       "10               0           0               0             0             0   \n",
       "11               0           0               0             0             0   \n",
       "12               0           0               0             0             1   \n",
       "13               0           0               0             0             0   \n",
       "14               0           0               0             0             0   \n",
       "\n",
       "    Genre_Role-Playing  Genre_Shooter  Genre_Simulation  Genre_Sports  \\\n",
       "10                   0              0                 0             0   \n",
       "11                   0              0                 0             0   \n",
       "12                   0              0                 0             0   \n",
       "13                   0              1                 0             0   \n",
       "14                   0              1                 0             0   \n",
       "\n",
       "    Genre_Strategy  \n",
       "10               0  \n",
       "11               0  \n",
       "12               0  \n",
       "13               0  \n",
       "14               0  \n",
       "\n",
       "[5 rows x 39 columns]"
      ]
     },
     "metadata": {},
     "execution_count": 88
    }
   ],
   "metadata": {}
  },
  {
   "cell_type": "markdown",
   "source": [
    "Let's now drop the variables from our model. These include:\n",
    "\n",
    "Rank\n",
    "Name\n",
    "Publisher\n",
    "NA_Sales\n",
    "EU_Sales\n",
    "JP_Sales\n",
    "Other_Sales"
   ],
   "metadata": {}
  },
  {
   "cell_type": "code",
   "execution_count": 89,
   "source": [
    "df1 = df1.drop(['Rank', 'Name', 'Publisher', 'NA_Sales', 'EU_Sales', 'JP_Sales', 'Other_Sales'], axis=1)\r\n"
   ],
   "outputs": [],
   "metadata": {}
  },
  {
   "cell_type": "markdown",
   "source": [
    "+ Center and reduce the numeric variables of the data frame, using an instance of the class preprocessing.StandardScaler"
   ],
   "metadata": {}
  },
  {
   "cell_type": "code",
   "execution_count": 90,
   "source": [
    "num_var = df1.select_dtypes(include=np.number).columns\r\n",
    "\r\n",
    "scaler = StandardScaler()\r\n",
    "df1[num_var] = pd.DataFrame(scaler.fit_transform(df1[num_var]), index = df1.index)\r\n"
   ],
   "outputs": [],
   "metadata": {}
  },
  {
   "cell_type": "markdown",
   "source": [
    "Let's define data and target and then split into training set (X_train, y_train) and a test set (X_test, y_test), with 20% of the original data for the test\n"
   ],
   "metadata": {}
  },
  {
   "cell_type": "code",
   "execution_count": 91,
   "source": [
    "target= df1.Global_Sales \r\n",
    "data = df1.drop('Global_Sales', axis=1)\r\n",
    "X_train, X_test, y_train, y_test = train_test_split(data, target, test_size= 0.2, random_state=42)\r\n",
    "Y_train = np.log1p(y_train)\r\n",
    "Y_test = np.log1p(y_test)"
   ],
   "outputs": [],
   "metadata": {}
  },
  {
   "cell_type": "code",
   "execution_count": 92,
   "source": [
    "from sklearn.model_selection import GridSearchCV\r\n",
    "from sklearn.ensemble import GradientBoostingRegressor\r\n",
    "\r\n",
    "#Parameter grid for Gradient Boosting Regressor\r\n",
    "param_grid_gbr = [\r\n",
    "    {'max_features': [6, 8, 10, 12], 'max_depth': [5, 7, 9]}]\r\n",
    "\r\n",
    "Y_train = np.log1p(y_train)\r\n",
    "Y_test = np.log1p(y_test)\r\n",
    "\r\n",
    "grid_search_gbr = GridSearchCV(GradientBoostingRegressor(n_estimators=200), param_grid_gbr, cv=5, scoring='neg_mean_squared_error')\r\n",
    "grid_search_gbr.fit(X_train, Y_train)\r\n",
    "print(\"Best parameters: {}\".format(grid_search_gbr.best_params_))\r\n",
    "gbr_best_cross_val_score = (np.sqrt(-grid_search_gbr.best_score_))\r\n",
    "print(\"Best cross-validation score: {:.2f}\".format(np.expm1(gbr_best_cross_val_score)))\r\n",
    "gbr_score = np.sqrt(-grid_search_gbr.score(X_test, Y_test))\r\n",
    "print(\"Test set score: {:.2f}\".format(np.expm1(gbr_score)))"
   ],
   "outputs": [
    {
     "output_type": "stream",
     "name": "stdout",
     "text": [
      "Best parameters: {'max_depth': 5, 'max_features': 8}\n",
      "Best cross-validation score: 0.55\n",
      "Test set score: 0.57\n"
     ]
    }
   ],
   "metadata": {}
  },
  {
   "cell_type": "code",
   "execution_count": 93,
   "source": [
    "l_reg = LinearRegression()\r\n",
    "l_reg.fit(X_train, Y_train)\r\n",
    "pred_test = l_reg.predict(X_test)\r\n",
    "\r\n",
    "print(\"score train :\", l_reg.score(X_train, Y_train))\r\n",
    "print(\"score test :\", l_reg.score(X_test, Y_test))\r\n",
    "print(\"mse test:\", np.sqrt(mean_squared_error(pred_test, Y_test)))"
   ],
   "outputs": [
    {
     "output_type": "stream",
     "name": "stdout",
     "text": [
      "score train : 0.30265479510738014\n",
      "score test : 0.307159211381398\n",
      "mse test: 0.495807070334269\n"
     ]
    }
   ],
   "metadata": {}
  },
  {
   "cell_type": "code",
   "execution_count": 94,
   "source": [
    "alpha = [10, 1, 0.1, 0.01, 0.001, 0.0005]\r\n",
    "model_lasso = LassoCV(alphas=alpha, cv=5).fit(X_train, Y_train)\r\n",
    "\r\n",
    "alphas = model_lasso.alphas_\r\n",
    "plt.figure(figsize=(20,7))\r\n",
    "plt.plot(alphas, model_lasso.mse_path_, '-', lw=2)\r\n",
    "\r\n",
    "plt.xlabel('Alpha')\r\n",
    "plt.ylabel('Mean square error')\r\n",
    "plt.title('Mean square error for each sample ')\r\n",
    "plt.show()\r\n",
    "print('the best value of alpha is',model_lasso.alpha_)"
   ],
   "outputs": [
    {
     "output_type": "display_data",
     "data": {
      "image/png": "[encoded data removed]",
      "text/plain": [
       "<Figure size 1440x504 with 1 Axes>"
      ]
     },
     "metadata": {
      "needs_background": "light"
     }
    },
    {
     "output_type": "stream",
     "name": "stdout",
     "text": [
      "the best value of alpha is 0.0005\n"
     ]
    }
   ],
   "metadata": {}
  },
  {
   "cell_type": "code",
   "execution_count": 95,
   "source": [
    "pred_test = model_lasso.predict(X_test)\r\n",
    "\r\n",
    "print(\"score test:\", model_lasso.score(X_test, Y_test))\r\n",
    "print(\"mse test:\", np.sqrt(mean_squared_error(pred_test, Y_test)))\r\n",
    "print('The number of variables kept =',(model_lasso.coef_!=0).sum())\r\n",
    "print('The number of variables eliminated =',(model_lasso.coef_==0).sum())"
   ],
   "outputs": [
    {
     "output_type": "stream",
     "name": "stdout",
     "text": [
      "score test: 0.30712852965059156\n",
      "mse test: 0.49581804836190774\n",
      "The number of variables kept = 29\n",
      "The number of variables eliminated = 2\n"
     ]
    }
   ],
   "metadata": {}
  },
  {
   "cell_type": "markdown",
   "source": [
    "# Change from Regression to Classification model"
   ],
   "metadata": {}
  },
  {
   "cell_type": "code",
   "execution_count": 96,
   "source": [
    "target.describe()\r\n",
    "bin_labels_4 = [ 'Silver', 'Gold', 'Platinum', 'Diamond']\r\n",
    "\r\n",
    "# bin_labels_5 = ['Bronze', 'Silver', 'Gold', 'Platinum', 'Diamond']\r\n",
    "# bin_labels_10 = ['0', '1','2','3','4','5','6','7','8','9', '10','11','12','13','14']\r\n",
    "\r\n",
    "label = pd.qcut(target, q=4, retbins = True, labels=bin_labels_4)\r\n",
    "X_train1, X_test1, y_train1, y_test1 = train_test_split(data, label[0], test_size= 0.2, random_state=42)\r\n"
   ],
   "outputs": [],
   "metadata": {}
  },
  {
   "cell_type": "code",
   "execution_count": 97,
   "source": [
    "# Classification using LogisticRegession\r\n",
    "lg = LogisticRegression(max_iter = 1000, n_jobs = -1)\r\n",
    "lg.fit(X_train1, y_train1)\r\n",
    "lg_sc=[]\r\n",
    "lg_sc.append(lg.score(X_test1, y_test1))\r\n",
    "lg_sc"
   ],
   "outputs": [
    {
     "output_type": "execute_result",
     "data": {
      "text/plain": [
       "[0.48361469712015887]"
      ]
     },
     "metadata": {},
     "execution_count": 97
    }
   ],
   "metadata": {}
  },
  {
   "cell_type": "code",
   "execution_count": 98,
   "source": [
    "# Classification using SVM\r\n",
    "from sklearn.svm import SVC\r\n",
    "svm = SVC()\r\n",
    "svm.fit(X_train1, y_train1)\r\n",
    "svm_sc=[]\r\n",
    "svm_sc.append(svm.score(X_test1, y_test1))\r\n",
    "svm_sc"
   ],
   "outputs": [
    {
     "output_type": "execute_result",
     "data": {
      "text/plain": [
       "[0.44091360476663355]"
      ]
     },
     "metadata": {},
     "execution_count": 98
    }
   ],
   "metadata": {}
  },
  {
   "cell_type": "markdown",
   "source": [
    "# Impact of outliers"
   ],
   "metadata": {}
  },
  {
   "cell_type": "code",
   "execution_count": 99,
   "source": [
    "df2=df[df['Year']>1999]\r\n",
    "df2 = pd.get_dummies(data=df2, columns=['Platform', 'Genre'])\r\n",
    "df2 = df2.drop(['Rank', 'Name', 'Publisher', 'NA_Sales', 'EU_Sales', 'JP_Sales', 'Other_Sales'], axis=1)\r\n",
    "\r\n",
    "# normalisation\r\n",
    "num_var = df2.select_dtypes(include=np.number).columns\r\n",
    "scaler = StandardScaler()\r\n",
    "df2[num_var] = pd.DataFrame(scaler.fit_transform(df2[num_var]), index = df2.index)\r\n",
    "\r\n",
    "label = pd.qcut(target, q=4, retbins = True, labels=bin_labels_4)\r\n",
    "target= df2.Global_Sales \r\n",
    "data = df2.drop('Global_Sales', axis=1)\r\n",
    "label = pd.qcut(target, q=4, retbins = True, labels=bin_labels_4)\r\n",
    "# Train the model\r\n",
    "X_train1, X_test1, y_train1, y_test1 = train_test_split(data, label[0], test_size= 0.2, random_state=42)\r\n",
    "\r\n",
    "# L R\r\n",
    "lg.fit(X_train1, y_train1)\r\n",
    "lg_sc.append(lg.score(X_test1, y_test1))\r\n",
    "print(lg_sc)\r\n",
    "\r\n",
    "\r\n",
    "# SVM\r\n",
    "svm.fit(X_train1, y_train1)\r\n",
    "svm_sc.append(svm.score(X_test1, y_test1))\r\n",
    "print(svm_sc)"
   ],
   "outputs": [
    {
     "output_type": "stream",
     "name": "stdout",
     "text": [
      "[0.48361469712015887, 0.45717131474103584]\n",
      "[0.44091360476663355, 0.4312749003984064]\n"
     ]
    }
   ],
   "metadata": {}
  },
  {
   "cell_type": "code",
   "execution_count": 106,
   "source": [
    "for i in range (19,7,-1):\r\n",
    "\r\n",
    "    df3=df[df['Global_Sales'] <= i]\r\n",
    "    df3 = pd.get_dummies(data=df3, columns=['Platform', 'Genre'])\r\n",
    "    df3 = df3.drop(['Rank', 'Name', 'Publisher', 'NA_Sales', 'EU_Sales', 'JP_Sales', 'Other_Sales'], axis=1)\r\n",
    "\r\n",
    "    # normalisation\r\n",
    "    num_var = df3.select_dtypes(include=np.number).columns\r\n",
    "    scaler = StandardScaler()\r\n",
    "    df3[num_var] = pd.DataFrame(scaler.fit_transform(df3[num_var]), index = df3.index)\r\n",
    "\r\n",
    "    label = pd.qcut(target, q=4, retbins = True, labels=bin_labels_4)\r\n",
    "    target= df3.Global_Sales \r\n",
    "    data = df3.drop('Global_Sales', axis=1)\r\n",
    "    label = pd.qcut(target, q=4, retbins = True, labels=bin_labels_4)\r\n",
    "    # Train the model\r\n",
    "    X_train1, X_test1, y_train1, y_test1 = train_test_split(data, label[0], test_size= 0.2, random_state=42)\r\n",
    "\r\n",
    "    # L R\r\n",
    "    lg.fit(X_train1, y_train1)\r\n",
    "    lg_sc.append(lg.score(X_test1, y_test1))\r\n",
    "    \r\n",
    "\r\n",
    "\r\n",
    "    # SVM\r\n",
    "    svm.fit(X_train1, y_train1)\r\n",
    "    svm_sc.append(svm.score(X_test1, y_test1))\r\n",
    "    \r\n",
    "\r\n",
    "print(lg_sc)\r\n",
    "print(svm_sc)"
   ],
   "outputs": [
    {
     "output_type": "stream",
     "name": "stdout",
     "text": [
      "[0.48361469712015887, 0.45717131474103584, 0.48361469712015887, 0.48361469712015887, 0.48361469712015887, 0.45183714001986097, 0.45183714001986097, 0.47713717693836977, 0.4646766169154229, 0.4701195219123506, 0.45363908275174475, 0.45209580838323354, 0.4485514485514486, 0.45345345345345345]\n",
      "[0.44091360476663355, 0.4312749003984064, 0.44091360476663355, 0.44091360476663355, 0.44091360476663355, 0.4438927507447865, 0.4438927507447865, 0.4572564612326044, 0.46766169154228854, 0.4442231075697211, 0.4596211365902293, 0.4620758483033932, 0.46053946053946054, 0.4444444444444444]\n"
     ]
    }
   ],
   "metadata": {}
  },
  {
   "cell_type": "code",
   "execution_count": 108,
   "source": [
    "label[0]"
   ],
   "outputs": [
    {
     "output_type": "execute_result",
     "data": {
      "text/plain": [
       "51      Diamond\n",
       "52      Diamond\n",
       "53      Diamond\n",
       "54      Diamond\n",
       "55      Diamond\n",
       "         ...   \n",
       "5039     Silver\n",
       "5040     Silver\n",
       "5041     Silver\n",
       "5042     Silver\n",
       "5043     Silver\n",
       "Name: Global_Sales, Length: 4993, dtype: category\n",
       "Categories (4, object): ['Silver' < 'Gold' < 'Platinum' < 'Diamond']"
      ]
     },
     "metadata": {},
     "execution_count": 108
    }
   ],
   "metadata": {}
  },
  {
   "cell_type": "code",
   "execution_count": 112,
   "source": [
    "GSCV_score=[]\r\n",
    "for i in range (19,7,-1):\r\n",
    "    df4=df[df['Global_Sales'] <= i]\r\n",
    "    df4 = pd.get_dummies(data=df4, columns=['Platform', 'Genre'])\r\n",
    "    df4 = df4.drop(['Rank', 'Name', 'Publisher', 'NA_Sales', 'EU_Sales', 'JP_Sales', 'Other_Sales'], axis=1)\r\n",
    "    target= df4.Global_Sales \r\n",
    "    data = df4.drop('Global_Sales', axis=1)\r\n",
    "    X_train, X_test, y_train, y_test = train_test_split(data, target, test_size= 0.2, random_state=42)\r\n",
    "    Y_train = np.log1p(y_train)\r\n",
    "    Y_test = np.log1p(y_test)\r\n",
    "\r\n",
    "    #Parameter grid for Gradient Boosting Regressor\r\n",
    "    param_grid_gbr = [\r\n",
    "        {'max_features': [6, 8, 10, 12], 'max_depth': [5, 7, 9]}]\r\n",
    "\r\n",
    "    grid_search_gbr = GridSearchCV(GradientBoostingRegressor(n_estimators=200), param_grid_gbr, cv=5, scoring='neg_mean_squared_error')\r\n",
    "    grid_search_gbr.fit(X_train, Y_train)\r\n",
    "    print(\"Best parameters: {}\".format(grid_search_gbr.best_params_))\r\n",
    "    gbr_best_cross_val_score = (np.sqrt(-grid_search_gbr.best_score_))\r\n",
    "    print(\"Best cross-validation score: {:.2f}\".format(np.expm1(gbr_best_cross_val_score)))\r\n",
    "    gbr_score = np.sqrt(-grid_search_gbr.score(X_test, Y_test))\r\n",
    "    print(i)\r\n",
    "    print(\"Test set score: {:.4f}\".format(np.expm1(gbr_score)))\r\n",
    "    GSCV_score.append(np.expm1(gbr_score))"
   ],
   "outputs": [
    {
     "output_type": "stream",
     "name": "stdout",
     "text": [
      "Best parameters: {'max_depth': 5, 'max_features': 8}\n",
      "Best cross-validation score: 0.42\n",
      "19\n",
      "Test set score: 0.4436\n",
      "Best parameters: {'max_depth': 5, 'max_features': 6}\n",
      "Best cross-validation score: 0.42\n",
      "18\n",
      "Test set score: 0.4398\n",
      "Best parameters: {'max_depth': 5, 'max_features': 8}\n",
      "Best cross-validation score: 0.42\n",
      "17\n",
      "Test set score: 0.4425\n",
      "Best parameters: {'max_depth': 5, 'max_features': 6}\n",
      "Best cross-validation score: 0.42\n",
      "16\n",
      "Test set score: 0.4356\n",
      "Best parameters: {'max_depth': 5, 'max_features': 10}\n",
      "Best cross-validation score: 0.42\n",
      "15\n",
      "Test set score: 0.4368\n",
      "Best parameters: {'max_depth': 5, 'max_features': 8}\n",
      "Best cross-validation score: 0.42\n",
      "14\n",
      "Test set score: 0.4337\n",
      "Best parameters: {'max_depth': 5, 'max_features': 6}\n",
      "Best cross-validation score: 0.42\n",
      "13\n",
      "Test set score: 0.4227\n",
      "Best parameters: {'max_depth': 5, 'max_features': 12}\n",
      "Best cross-validation score: 0.42\n",
      "12\n",
      "Test set score: 0.4150\n",
      "Best parameters: {'max_depth': 5, 'max_features': 6}\n",
      "Best cross-validation score: 0.41\n",
      "11\n",
      "Test set score: 0.4302\n",
      "Best parameters: {'max_depth': 5, 'max_features': 6}\n",
      "Best cross-validation score: 0.41\n",
      "10\n",
      "Test set score: 0.4446\n",
      "Best parameters: {'max_depth': 5, 'max_features': 12}\n",
      "Best cross-validation score: 0.41\n",
      "9\n",
      "Test set score: 0.4020\n",
      "Best parameters: {'max_depth': 5, 'max_features': 6}\n",
      "Best cross-validation score: 0.40\n",
      "8\n",
      "Test set score: 0.4111\n"
     ]
    }
   ],
   "metadata": {}
  },
  {
   "cell_type": "code",
   "execution_count": 113,
   "source": [
    "GSCV_score\r\n"
   ],
   "outputs": [
    {
     "output_type": "execute_result",
     "data": {
      "text/plain": [
       "[0.4436413102978027,\n",
       " 0.4397501326376228,\n",
       " 0.44248562492466775,\n",
       " 0.4356033055402448,\n",
       " 0.4368353855232752,\n",
       " 0.4336871855635897,\n",
       " 0.42265780846137974,\n",
       " 0.41495085112927665,\n",
       " 0.4301705628743069,\n",
       " 0.4445677885968156,\n",
       " 0.40203635249554476,\n",
       " 0.4111242729535207]"
      ]
     },
     "metadata": {},
     "execution_count": 113
    }
   ],
   "metadata": {}
  },
  {
   "cell_type": "markdown",
   "source": [
    "Result shows that the gradual removal of outliers has no meaningful impact on results"
   ],
   "metadata": {}
  }
 ],
 "metadata": {
  "kernelspec": {
   "name": "python3",
   "display_name": "Python 3.8.8 64-bit ('base': conda)"
  },
  "language_info": {
   "codemirror_mode": {
    "name": "ipython",
    "version": 3
   },
   "file_extension": ".py",
   "mimetype": "text/x-python",
   "name": "python",
   "nbconvert_exporter": "python",
   "pygments_lexer": "ipython3",
   "version": "3.8.8"
  },
  "interpreter": {
   "hash": "85b3aa9d2578f475a230b432b3da3c17362054d36c0e915023ad77781082e8fd"
  }
 },
 "nbformat": 4,
 "nbformat_minor": 5
}